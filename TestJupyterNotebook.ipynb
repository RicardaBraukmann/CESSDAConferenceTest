{
 "cells": [
  {
   "cell_type": "code",
   "execution_count": null,
   "id": "27c7a644-527d-4c5b-9418-3206be06e5b2",
   "metadata": {},
   "outputs": [],
   "source": [
    "# Test Scripts"
   ]
  },
  {
   "cell_type": "code",
   "execution_count": 12,
   "id": "367d3d4c-3cba-492e-9a03-d99f30318a69",
   "metadata": {},
   "outputs": [],
   "source": [
    "import requests"
   ]
  },
  {
   "cell_type": "raw",
   "id": "cc693a6f-1319-42b8-b920-7d4f228d8a87",
   "metadata": {},
   "source": [
    "url = 'https://raw.githubusercontent.com/rgaiacs/2024-06-cessda-workshop-mybinder/main/data/croatia-life-expectancy.json'"
   ]
  },
  {
   "cell_type": "code",
   "execution_count": 15,
   "id": "82509374-1577-4a3a-a53d-19b1ef16ec51",
   "metadata": {},
   "outputs": [],
   "source": [
    "response = requests.get(url)"
   ]
  },
  {
   "cell_type": "code",
   "execution_count": 16,
   "id": "a2d4b990-44a2-4869-97d2-0f91184efa5d",
   "metadata": {},
   "outputs": [
    {
     "data": {
      "text/plain": [
       "<Response [200]>"
      ]
     },
     "execution_count": 16,
     "metadata": {},
     "output_type": "execute_result"
    }
   ],
   "source": [
    "response"
   ]
  },
  {
   "cell_type": "raw",
   "id": "6018edb3-31bf-4ffd-9865-7fb5f9a36010",
   "metadata": {},
   "source": [
    "data = response.json()"
   ]
  },
  {
   "cell_type": "code",
   "execution_count": null,
   "id": "991eded0-00a0-4e6f-833d-42e2cc056ad1",
   "metadata": {},
   "outputs": [],
   "source": []
  }
 ],
 "metadata": {
  "kernelspec": {
   "display_name": "Python 3 (ipykernel)",
   "language": "python",
   "name": "python3"
  },
  "language_info": {
   "codemirror_mode": {
    "name": "ipython",
    "version": 3
   },
   "file_extension": ".py",
   "mimetype": "text/x-python",
   "name": "python",
   "nbconvert_exporter": "python",
   "pygments_lexer": "ipython3",
   "version": "3.10.14"
  }
 },
 "nbformat": 4,
 "nbformat_minor": 5
}
